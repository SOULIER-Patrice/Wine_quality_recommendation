{
 "cells": [
  {
   "cell_type": "markdown",
   "metadata": {},
   "source": [
    "# Study model Wine Quality"
   ]
  },
  {
   "cell_type": "code",
   "execution_count": null,
   "metadata": {},
   "outputs": [
    {
     "name": "stdout",
     "output_type": "stream",
     "text": [
      "(914, 11) (229, 11) (914, 1) (229, 1)\n"
     ]
    },
    {
     "name": "stderr",
     "output_type": "stream",
     "text": [
      "/home/patrice/Documents/Etudes/2024-2025_CY-Tech_Ing3/Cours/Architecture_Microservices/FastAPI/TP_Wine_quality_recommendation/.venv/lib/python3.12/site-packages/sklearn/base.py:1473: DataConversionWarning: A column-vector y was passed when a 1d array was expected. Please change the shape of y to (n_samples,), for example using ravel().\n",
      "  return fit_method(estimator, *args, **kwargs)\n"
     ]
    },
    {
     "name": "stdout",
     "output_type": "stream",
     "text": [
      "accuracy_score test 0.6768558951965066\n",
      "0.6642889065943787\n",
      "              precision    recall  f1-score   support\n",
      "\n",
      "           4       0.00      0.00      0.00         6\n",
      "           5       0.70      0.76      0.73        96\n",
      "           6       0.64      0.66      0.65        99\n",
      "           7       0.74      0.65      0.69        26\n",
      "           8       0.00      0.00      0.00         2\n",
      "\n",
      "    accuracy                           0.68       229\n",
      "   macro avg       0.42      0.41      0.41       229\n",
      "weighted avg       0.65      0.68      0.66       229\n",
      "\n",
      "All dataset :\n",
      "              precision    recall  f1-score   support\n",
      "\n",
      "           3       1.00      1.00      1.00         6\n",
      "           4       1.00      0.82      0.90        33\n",
      "           5       0.93      0.95      0.94       483\n",
      "           6       0.92      0.93      0.92       462\n",
      "           7       0.96      0.94      0.95       143\n",
      "           8       1.00      0.88      0.93        16\n",
      "\n",
      "    accuracy                           0.94      1143\n",
      "   macro avg       0.97      0.92      0.94      1143\n",
      "weighted avg       0.94      0.94      0.94      1143\n",
      "\n"
     ]
    },
    {
     "name": "stderr",
     "output_type": "stream",
     "text": [
      "/home/patrice/Documents/Etudes/2024-2025_CY-Tech_Ing3/Cours/Architecture_Microservices/FastAPI/TP_Wine_quality_recommendation/.venv/lib/python3.12/site-packages/sklearn/metrics/_classification.py:1531: UndefinedMetricWarning: Precision is ill-defined and being set to 0.0 in labels with no predicted samples. Use `zero_division` parameter to control this behavior.\n",
      "  _warn_prf(average, modifier, f\"{metric.capitalize()} is\", len(result))\n",
      "/home/patrice/Documents/Etudes/2024-2025_CY-Tech_Ing3/Cours/Architecture_Microservices/FastAPI/TP_Wine_quality_recommendation/.venv/lib/python3.12/site-packages/sklearn/metrics/_classification.py:1531: UndefinedMetricWarning: Precision is ill-defined and being set to 0.0 in labels with no predicted samples. Use `zero_division` parameter to control this behavior.\n",
      "  _warn_prf(average, modifier, f\"{metric.capitalize()} is\", len(result))\n",
      "/home/patrice/Documents/Etudes/2024-2025_CY-Tech_Ing3/Cours/Architecture_Microservices/FastAPI/TP_Wine_quality_recommendation/.venv/lib/python3.12/site-packages/sklearn/metrics/_classification.py:1531: UndefinedMetricWarning: Precision is ill-defined and being set to 0.0 in labels with no predicted samples. Use `zero_division` parameter to control this behavior.\n",
      "  _warn_prf(average, modifier, f\"{metric.capitalize()} is\", len(result))\n"
     ]
    }
   ],
   "source": [
    "from sklearn.model_selection import train_test_split\n",
    "from sklearn.ensemble import RandomForestClassifier\n",
    "from sklearn.svm import SVC\n",
    "from sklearn.metrics import accuracy_score,f1_score,classification_report,confusion_matrix\n",
    "import polars as pl\n",
    "import joblib\n",
    "\n",
    "# load data\n",
    "df_csv = pl.read_csv(\"../data/Wines.csv\")\n",
    "\n",
    "X = df_csv.select([col for col in df_csv.columns if col not in [\"Id\", \"quality\"]])\n",
    "y = df_csv.select(\"quality\")\n",
    "\n",
    "X_train, X_test, y_train, y_test = train_test_split(X, y, test_size=0.2, random_state=42)\n",
    "print(X_train.shape, X_test.shape, y_train.shape, y_test.shape)\n",
    "\n",
    "# RandomForest\n",
    "rf = RandomForestClassifier()\n",
    "rf.fit(X_train, y_train)\n",
    "y_head_test_rf = rf.predict(X_test)\n",
    "print(\"accuracy_score test\", accuracy_score(y_test, y_head_test_rf))\n",
    "print(f1_score(y_test, y_head_test_rf, average='weighted'))\n",
    "print(classification_report(y_test, y_head_test_rf))\n",
    "\n",
    "# All data\n",
    "print(\"All dataset :\")\n",
    "y_head_all_rf = rf.predict(X)\n",
    "print(classification_report(y, y_head_all_rf))\n",
    "\n",
    "\n",
    "\n",
    "# # Save model\n",
    "# joblib.dump(rf, \"../models/model_wine_recommendation.pkl\")"
   ]
  },
  {
   "cell_type": "code",
   "execution_count": 74,
   "metadata": {},
   "outputs": [
    {
     "name": "stdout",
     "output_type": "stream",
     "text": [
      "8\n"
     ]
    }
   ],
   "source": [
    "# 9.4\t0.3\t0.56\t2.8\t0.08\t6.0\t17.0\t0.9964\t3.15\t0.92\t11.7\t8\t481\n",
    "X_new = {\n",
    "    'fixed acidity': [9.4],\n",
    "    'volatile acidity': [0.3],\n",
    "    'citric acid': [0.56],\n",
    "    'residual sugar': [2.8],\n",
    "    'chlorides': [0.08],\n",
    "    'free sulfur dioxide': [6.0],\n",
    "    'total sulfur dioxide': [17.0],\n",
    "    'density': [0.9964],\n",
    "    'pH': [3.15],\n",
    "    'sulphates': [0.92],\n",
    "    'alcohol': [11.7]\n",
    "}\n",
    "# Créer le DataFrame polars\n",
    "vin_df = pl.DataFrame(X_new)\n",
    "quality = rf.predict(vin_df)[0]\n",
    "print(quality)"
   ]
  },
  {
   "cell_type": "markdown",
   "metadata": {},
   "source": [
    "# OLD CODE"
   ]
  },
  {
   "cell_type": "code",
   "execution_count": null,
   "metadata": {},
   "outputs": [],
   "source": [
    "# Imports\n",
    "import polars as pl\n",
    "import numpy as np\n",
    "\n",
    "from sklearn.model_selection import train_test_split\n",
    "from sklearn.metrics import mean_squared_error\n",
    "from sklearn import svm"
   ]
  },
  {
   "cell_type": "code",
   "execution_count": 2,
   "metadata": {},
   "outputs": [
    {
     "name": "stdout",
     "output_type": "stream",
     "text": [
      "(914, 11) (229, 11) (914, 1) (229, 1)\n"
     ]
    }
   ],
   "source": [
    "# load data\n",
    "df_csv = pl.read_csv(\"../data/Wines.csv\")\n",
    "\n",
    "X = df_csv.select([col for col in df_csv.columns if col not in [\"Id\", \"quality\"]])\n",
    "y = df_csv.select(\"quality\")\n",
    "\n",
    "X_train, X_test, y_train, y_test = train_test_split(X, y, test_size=0.2, random_state=42)\n",
    "print(X_train.shape, X_test.shape, y_train.shape, y_test.shape)"
   ]
  },
  {
   "cell_type": "code",
   "execution_count": 58,
   "metadata": {},
   "outputs": [],
   "source": [
    "def get_accuracy(y_hat, y_true):\n",
    "    \"\"\" Retourne l'accuracy du modèle \"\"\"\n",
    "    # Convertir y_hat en dataframe\n",
    "    y_hat = pl.DataFrame({\"predictions\": y_hat})\n",
    "\n",
    "    # Arrondir les valeurs de y_hat à l'entier le plus proche\n",
    "    y_hat_rounded = y_hat.select(pl.col(\"predictions\").round(0))\n",
    "\n",
    "    # Comparer les prédictions arrondies avec y pour compter le nombre de bonnes prédictions\n",
    "    correct_predictions = (y_hat_rounded[\"predictions\"] == y_true[\"quality\"]).sum()\n",
    "\n",
    "    # Calculer l'accuracy en pourcentage\n",
    "    accuracy = (correct_predictions / len(y_true))\n",
    "    return accuracy"
   ]
  },
  {
   "cell_type": "code",
   "execution_count": null,
   "metadata": {},
   "outputs": [
    {
     "name": "stdout",
     "output_type": "stream",
     "text": [
      "Test set :\n",
      "Polynomial SVM achieved 0.494 MSE.\n",
      "accuracy test_set = 0.519650655021834\n",
      "Train set :\n",
      "Polynomial SVM achieved 0.615 MSE.\n",
      "accuracy train_set = 0.47702407002188185\n"
     ]
    },
    {
     "name": "stderr",
     "output_type": "stream",
     "text": [
      "/home/patrice/Documents/Etudes/2024-2025_CY-Tech_Ing3/Cours/Architecture_Microservices/FastAPI/TP_Wine_quality_recommendation/.venv/lib/python3.12/site-packages/sklearn/utils/validation.py:1339: DataConversionWarning: A column-vector y was passed when a 1d array was expected. Please change the shape of y to (n_samples, ), for example using ravel().\n",
      "  y = column_or_1d(y, warn=True)\n"
     ]
    }
   ],
   "source": [
    "# Create model\n",
    "svm_poly = svm.SVR(kernel='poly')\n",
    "\n",
    "# Fit model\n",
    "svm_poly.fit(X_train, y_train)\n",
    "\n",
    "# Evaluate test_set\n",
    "print(\"Test set :\")\n",
    "y_test_hat_poly = svm_poly.predict(X_test)\n",
    "mse_poly = mean_squared_error(y_test_hat_poly, y_test)\n",
    "accuracy_test = get_accuracy(y_test_hat_poly, y_test)\n",
    "print(f'Polynomial SVM achieved {round(mse_poly, 3)} MSE.')\n",
    "print(f'accuracy test_set = {accuracy_test}')\n",
    "\n",
    "# Evaluate train_set\n",
    "print(\"Train set :\")\n",
    "y_train_hat_poly = svm_poly.predict(X_train)\n",
    "mse_poly = mean_squared_error(y_train_hat_poly, y_train)\n",
    "accuracy_test = get_accuracy(y_train_hat_poly, y_train)\n",
    "print(f'Polynomial SVM achieved {round(mse_poly, 3)} MSE.')\n",
    "print(f'accuracy train_set = {accuracy_test}')\n",
    "\n",
    "\n",
    "# print(y_train_hat_poly.shape, y_train.shape)"
   ]
  },
  {
   "cell_type": "markdown",
   "metadata": {},
   "source": [
    "# Ancien pas propre"
   ]
  },
  {
   "cell_type": "markdown",
   "metadata": {},
   "source": [
    "## Data pre-processing"
   ]
  },
  {
   "cell_type": "code",
   "execution_count": 17,
   "metadata": {},
   "outputs": [],
   "source": [
    "# load data\n",
    "import polars as pl\n",
    "df_csv = pl.read_csv(\"../data/Wines.csv\")\n",
    "# df_csv"
   ]
  },
  {
   "cell_type": "code",
   "execution_count": 18,
   "metadata": {},
   "outputs": [
    {
     "data": {
      "text/html": [
       "<div><style>\n",
       ".dataframe > thead > tr,\n",
       ".dataframe > tbody > tr {\n",
       "  text-align: right;\n",
       "  white-space: pre-wrap;\n",
       "}\n",
       "</style>\n",
       "<small>shape: (9, 14)</small><table border=\"1\" class=\"dataframe\"><thead><tr><th>statistic</th><th>fixed acidity</th><th>volatile acidity</th><th>citric acid</th><th>residual sugar</th><th>chlorides</th><th>free sulfur dioxide</th><th>total sulfur dioxide</th><th>density</th><th>pH</th><th>sulphates</th><th>alcohol</th><th>quality</th><th>Id</th></tr><tr><td>str</td><td>f64</td><td>f64</td><td>f64</td><td>f64</td><td>f64</td><td>f64</td><td>f64</td><td>f64</td><td>f64</td><td>f64</td><td>f64</td><td>f64</td><td>f64</td></tr></thead><tbody><tr><td>&quot;count&quot;</td><td>1143.0</td><td>1143.0</td><td>1143.0</td><td>1143.0</td><td>1143.0</td><td>1143.0</td><td>1143.0</td><td>1143.0</td><td>1143.0</td><td>1143.0</td><td>1143.0</td><td>1143.0</td><td>1143.0</td></tr><tr><td>&quot;null_count&quot;</td><td>0.0</td><td>0.0</td><td>0.0</td><td>0.0</td><td>0.0</td><td>0.0</td><td>0.0</td><td>0.0</td><td>0.0</td><td>0.0</td><td>0.0</td><td>0.0</td><td>0.0</td></tr><tr><td>&quot;mean&quot;</td><td>8.311111</td><td>0.531339</td><td>0.268364</td><td>2.532152</td><td>0.086933</td><td>15.615486</td><td>45.914698</td><td>0.99673</td><td>3.311015</td><td>0.657708</td><td>10.442111</td><td>5.657043</td><td>804.969379</td></tr><tr><td>&quot;std&quot;</td><td>1.747595</td><td>0.179633</td><td>0.196686</td><td>1.355917</td><td>0.047267</td><td>10.250486</td><td>32.78213</td><td>0.001925</td><td>0.156664</td><td>0.170399</td><td>1.082196</td><td>0.805824</td><td>463.997116</td></tr><tr><td>&quot;min&quot;</td><td>4.6</td><td>0.12</td><td>0.0</td><td>0.9</td><td>0.012</td><td>1.0</td><td>6.0</td><td>0.99007</td><td>2.74</td><td>0.33</td><td>8.4</td><td>3.0</td><td>0.0</td></tr><tr><td>&quot;25%&quot;</td><td>7.1</td><td>0.395</td><td>0.09</td><td>1.9</td><td>0.07</td><td>7.0</td><td>21.0</td><td>0.99557</td><td>3.21</td><td>0.55</td><td>9.5</td><td>5.0</td><td>412.0</td></tr><tr><td>&quot;50%&quot;</td><td>7.9</td><td>0.52</td><td>0.25</td><td>2.2</td><td>0.079</td><td>13.0</td><td>37.0</td><td>0.99668</td><td>3.31</td><td>0.62</td><td>10.2</td><td>6.0</td><td>794.0</td></tr><tr><td>&quot;75%&quot;</td><td>9.1</td><td>0.64</td><td>0.42</td><td>2.6</td><td>0.09</td><td>21.0</td><td>61.0</td><td>0.99785</td><td>3.4</td><td>0.73</td><td>11.1</td><td>6.0</td><td>1210.0</td></tr><tr><td>&quot;max&quot;</td><td>15.9</td><td>1.58</td><td>1.0</td><td>15.5</td><td>0.611</td><td>68.0</td><td>289.0</td><td>1.00369</td><td>4.01</td><td>2.0</td><td>14.9</td><td>8.0</td><td>1597.0</td></tr></tbody></table></div>"
      ],
      "text/plain": [
       "shape: (9, 14)\n",
       "┌───────────┬───────────┬───────────┬───────────┬───┬───────────┬───────────┬──────────┬───────────┐\n",
       "│ statistic ┆ fixed     ┆ volatile  ┆ citric    ┆ … ┆ sulphates ┆ alcohol   ┆ quality  ┆ Id        │\n",
       "│ ---       ┆ acidity   ┆ acidity   ┆ acid      ┆   ┆ ---       ┆ ---       ┆ ---      ┆ ---       │\n",
       "│ str       ┆ ---       ┆ ---       ┆ ---       ┆   ┆ f64       ┆ f64       ┆ f64      ┆ f64       │\n",
       "│           ┆ f64       ┆ f64       ┆ f64       ┆   ┆           ┆           ┆          ┆           │\n",
       "╞═══════════╪═══════════╪═══════════╪═══════════╪═══╪═══════════╪═══════════╪══════════╪═══════════╡\n",
       "│ count     ┆ 1143.0    ┆ 1143.0    ┆ 1143.0    ┆ … ┆ 1143.0    ┆ 1143.0    ┆ 1143.0   ┆ 1143.0    │\n",
       "│ null_coun ┆ 0.0       ┆ 0.0       ┆ 0.0       ┆ … ┆ 0.0       ┆ 0.0       ┆ 0.0      ┆ 0.0       │\n",
       "│ t         ┆           ┆           ┆           ┆   ┆           ┆           ┆          ┆           │\n",
       "│ mean      ┆ 8.311111  ┆ 0.531339  ┆ 0.268364  ┆ … ┆ 0.657708  ┆ 10.442111 ┆ 5.657043 ┆ 804.96937 │\n",
       "│           ┆           ┆           ┆           ┆   ┆           ┆           ┆          ┆ 9         │\n",
       "│ std       ┆ 1.747595  ┆ 0.179633  ┆ 0.196686  ┆ … ┆ 0.170399  ┆ 1.082196  ┆ 0.805824 ┆ 463.99711 │\n",
       "│           ┆           ┆           ┆           ┆   ┆           ┆           ┆          ┆ 6         │\n",
       "│ min       ┆ 4.6       ┆ 0.12      ┆ 0.0       ┆ … ┆ 0.33      ┆ 8.4       ┆ 3.0      ┆ 0.0       │\n",
       "│ 25%       ┆ 7.1       ┆ 0.395     ┆ 0.09      ┆ … ┆ 0.55      ┆ 9.5       ┆ 5.0      ┆ 412.0     │\n",
       "│ 50%       ┆ 7.9       ┆ 0.52      ┆ 0.25      ┆ … ┆ 0.62      ┆ 10.2      ┆ 6.0      ┆ 794.0     │\n",
       "│ 75%       ┆ 9.1       ┆ 0.64      ┆ 0.42      ┆ … ┆ 0.73      ┆ 11.1      ┆ 6.0      ┆ 1210.0    │\n",
       "│ max       ┆ 15.9      ┆ 1.58      ┆ 1.0       ┆ … ┆ 2.0       ┆ 14.9      ┆ 8.0      ┆ 1597.0    │\n",
       "└───────────┴───────────┴───────────┴───────────┴───┴───────────┴───────────┴──────────┴───────────┘"
      ]
     },
     "execution_count": 18,
     "metadata": {},
     "output_type": "execute_result"
    }
   ],
   "source": [
    "df_csv.describe()"
   ]
  },
  {
   "cell_type": "code",
   "execution_count": 19,
   "metadata": {},
   "outputs": [],
   "source": [
    "# Définir `X` comme toutes les colonnes sauf \"id\" et \"quality\"\n",
    "X = df_csv.select([col for col in df_csv.columns if col not in [\"Id\", \"quality\"]])\n",
    "# Définir `y` comme la colonne \"quality\"\n",
    "y = df_csv.select(\"quality\")\n",
    "\n",
    "# # Afficher X et y pour vérification\n",
    "# print(\"X (features) :\\n\", X)\n",
    "# print(\"\\nY (target) :\\n\", y)"
   ]
  },
  {
   "cell_type": "code",
   "execution_count": 5,
   "metadata": {},
   "outputs": [],
   "source": [
    "# Afficher les valeurs différentes de quality (on a remarqué qu'il en manque certaines)\n",
    "# for col in y.columns:\n",
    "#     valeurs_uniques = y.select(pl.col(col).unique()).to_series()\n",
    "#     print(f\"Valeurs uniques pour la colonne '{col}':\\n\", valeurs_uniques)\n",
    "#     print(\"\\n\" + \"-\"*50 + \"\\n\")"
   ]
  },
  {
   "cell_type": "markdown",
   "metadata": {},
   "source": [
    "Dans la colonne quality il manque 1, 2, 9 et 10. D'où le choix d'une regression et non une classification."
   ]
  },
  {
   "cell_type": "markdown",
   "metadata": {},
   "source": [
    "## Model SVM (regression)"
   ]
  },
  {
   "cell_type": "code",
   "execution_count": 20,
   "metadata": {},
   "outputs": [
    {
     "name": "stdout",
     "output_type": "stream",
     "text": [
      "(914, 11) (229, 11) (914, 1) (229, 1)\n"
     ]
    }
   ],
   "source": [
    "from sklearn.model_selection import train_test_split\n",
    "from sklearn.metrics import mean_squared_error\n",
    "from sklearn import svm\n",
    "\n",
    "X_train, X_test, y_train, y_test = train_test_split(X, y, test_size=0.2, random_state=42)\n",
    "print(X_train.shape, X_test.shape, y_train.shape, y_test.shape)"
   ]
  },
  {
   "cell_type": "code",
   "execution_count": 21,
   "metadata": {},
   "outputs": [],
   "source": [
    "import numpy as np\n",
    "\n",
    "def get_accuracy(y_test, y_test_hat):\n",
    "    \"\"\" Retourne l'accuracy du modèle \"\"\"\n",
    "    # Arrondir les prédictions à l'entier le plus proche\n",
    "    y_test_hat_rounded = np.round(y_test_hat)\n",
    "    # Comparer les prédictions arrondies avec les valeurs réelles\n",
    "    correct_predictions = np.sum(y_test_hat_rounded == y_test)\n",
    "    # Calculer l'accuracy (le pourcentage de bonnes prédictions)\n",
    "    accuracy = correct_predictions / len(y_test)\n",
    "    return accuracy"
   ]
  },
  {
   "cell_type": "markdown",
   "metadata": {},
   "source": [
    "### Linear"
   ]
  },
  {
   "cell_type": "code",
   "execution_count": 22,
   "metadata": {},
   "outputs": [
    {
     "name": "stderr",
     "output_type": "stream",
     "text": [
      "/home/patrice/Documents/Etudes/2024-2025_CY-Tech_Ing3/Cours/Architecture_Microservices/FastAPI/TP_Wine_quality_recommendation/.venv/lib/python3.12/site-packages/sklearn/utils/validation.py:1339: DataConversionWarning: A column-vector y was passed when a 1d array was expected. Please change the shape of y to (n_samples, ), for example using ravel().\n",
      "  y = column_or_1d(y, warn=True)\n"
     ]
    },
    {
     "name": "stdout",
     "output_type": "stream",
     "text": [
      "Linear SVM achieved 0.369 MSE.\n",
      "accuracy = 92.43668122270742\n"
     ]
    }
   ],
   "source": [
    "svm_linear = svm.SVR(kernel='linear')\n",
    "svm_linear.fit(X_train, y_train)\n",
    "y_test_hat_linear = svm_linear.predict(X_test)\n",
    "\n",
    "# # DEBUG\n",
    "# print(\"Real, Predict\")\n",
    "# for i in range(len(y_test)):\n",
    "#     print(f'{y_test[i].item()}, {np.round(y_test_hat_linear[i])}')\n",
    "# # FIN DEBUG\n",
    "\n",
    "mse_linear = mean_squared_error(y_test_hat_linear, y_test)\n",
    "print(f'Linear SVM achieved {round(mse_linear, 3)} MSE.')\n",
    "print(f'accuracy = {get_accuracy(y_test, y_test_hat_linear)}')"
   ]
  },
  {
   "cell_type": "markdown",
   "metadata": {},
   "source": [
    "### Poly (BEST)"
   ]
  },
  {
   "cell_type": "code",
   "execution_count": 28,
   "metadata": {},
   "outputs": [
    {
     "name": "stdout",
     "output_type": "stream",
     "text": [
      "Polynomial SVM achieved 0.494 MSE.\n",
      "accuracy = 98.117903930131\n"
     ]
    },
    {
     "name": "stderr",
     "output_type": "stream",
     "text": [
      "/home/patrice/Documents/Etudes/2024-2025_CY-Tech_Ing3/Cours/Architecture_Microservices/FastAPI/TP_Wine_quality_recommendation/.venv/lib/python3.12/site-packages/sklearn/utils/validation.py:1339: DataConversionWarning: A column-vector y was passed when a 1d array was expected. Please change the shape of y to (n_samples, ), for example using ravel().\n",
      "  y = column_or_1d(y, warn=True)\n"
     ]
    }
   ],
   "source": [
    "svm_poly = svm.SVR(kernel='poly')\n",
    "svm_poly.fit(X_train, y_train)\n",
    "y_test_hat_poly = svm_poly.predict(X_test)\n",
    "\n",
    "# # DEBUG\n",
    "# print(\"Real, Predict\")\n",
    "# for i in range(len(y_test)):\n",
    "#     print(f'{y_test[i].item()}, {np.round(y_test_hat_linear[i])}')\n",
    "# # FIN DEBUG\n",
    "\n",
    "mse_poly = mean_squared_error(y_test_hat_poly, y_test)\n",
    "print(f'Polynomial SVM achieved {round(mse_poly, 3)} MSE.')\n",
    "print(f'accuracy = {get_accuracy(y_test, y_test_hat_poly)}')"
   ]
  },
  {
   "cell_type": "code",
   "execution_count": 24,
   "metadata": {},
   "outputs": [
    {
     "data": {
      "text/plain": [
       "['../models/model_wine_recommendation.pkl']"
      ]
     },
     "execution_count": 24,
     "metadata": {},
     "output_type": "execute_result"
    }
   ],
   "source": [
    "# Save model\n",
    "import joblib\n",
    "joblib.dump(svm_poly, \"../models/model_wine_recommendation.pkl\")"
   ]
  },
  {
   "cell_type": "code",
   "execution_count": 25,
   "metadata": {},
   "outputs": [
    {
     "name": "stdout",
     "output_type": "stream",
     "text": [
      "Polynomial SVM achieved 0.494 MSE.\n",
      "accuracy = 98.117903930131\n"
     ]
    }
   ],
   "source": [
    "# Load and use model\n",
    "model = joblib.load(\"../models/model_wine_recommendation.pkl\")\n",
    "\n",
    "# Test\n",
    "y_test_hat_poly = model.predict(X_test)\n",
    "mse_poly = mean_squared_error(y_test_hat_poly, y_test)\n",
    "print(f'Polynomial SVM achieved {round(mse_poly, 3)} MSE.')\n",
    "print(f'accuracy = {get_accuracy(y_test, y_test_hat_poly)}')"
   ]
  },
  {
   "cell_type": "markdown",
   "metadata": {},
   "source": [
    "### Rbf"
   ]
  },
  {
   "cell_type": "code",
   "execution_count": 26,
   "metadata": {},
   "outputs": [
    {
     "name": "stdout",
     "output_type": "stream",
     "text": [
      "RBF SVM achieved 0.423 MSE.\n",
      "accuracy = 97.9475982532751\n"
     ]
    },
    {
     "name": "stderr",
     "output_type": "stream",
     "text": [
      "/home/patrice/Documents/Etudes/2024-2025_CY-Tech_Ing3/Cours/Architecture_Microservices/FastAPI/TP_Wine_quality_recommendation/.venv/lib/python3.12/site-packages/sklearn/utils/validation.py:1339: DataConversionWarning: A column-vector y was passed when a 1d array was expected. Please change the shape of y to (n_samples, ), for example using ravel().\n",
      "  y = column_or_1d(y, warn=True)\n"
     ]
    }
   ],
   "source": [
    "svm_rbf = svm.SVR(kernel='rbf')\n",
    "svm_rbf.fit(X_train, y_train)\n",
    "y_test_hat_rbf = svm_rbf.predict(X_test)\n",
    "mse_rbf = mean_squared_error(y_test_hat_rbf, y_test)\n",
    "print(f'RBF SVM achieved {round(mse_rbf, 3)} MSE.')\n",
    "print(f'accuracy = {get_accuracy(y_test, y_test_hat_rbf)}')"
   ]
  },
  {
   "cell_type": "markdown",
   "metadata": {},
   "source": [
    "## TESTS TEMP"
   ]
  },
  {
   "cell_type": "code",
   "execution_count": 37,
   "metadata": {},
   "outputs": [
    {
     "name": "stdout",
     "output_type": "stream",
     "text": [
      "Polynomial SVM achieved 0.591 MSE.\n",
      "accuracy = 462.9422572178478\n",
      "Real, Predict\n",
      "5, 6.0\n"
     ]
    }
   ],
   "source": [
    "# Load and use model\n",
    "model = joblib.load(\"../models/model_wine_recommendation.pkl\")\n",
    "\n",
    "# print(X_test)\n",
    "# Test\n",
    "y_hat_poly = model.predict(X)\n",
    "mse_poly = mean_squared_error(y_hat_poly, y)\n",
    "print(f'Polynomial SVM achieved {round(mse_poly, 3)} MSE.')\n",
    "print(f'accuracy = {get_accuracy(y, y_hat_poly)}')\n",
    "\n",
    "# DEBUG\n",
    "print(\"Real, Predict\")\n",
    "for i in range(len(y)):\n",
    "    if i == 342:\n",
    "        print(f'{y[i].item()}, {np.round(y_hat_poly[i])}')\n",
    "# FIN DEBUG\n",
    "\n",
    "# 9.4\t0.3\t0.56\t2.8\t0.08\t6.0\t17.0\t0.9964\t3.15\t0.92\t11.7\t8\t481\n",
    "X_new = {\n",
    "    'fixed acidity': [9.4],\n",
    "    'volatile acidity': [0.3],\n",
    "    'citric acid': [0.56],\n",
    "    'residual sugar': [2.8],\n",
    "    'chlorides': [0.08],\n",
    "    'free sulfur dioxide': [6.0],\n",
    "    'total sulfur dioxide': [17.0],\n",
    "    'density': [0.9964],\n",
    "    'pH': [3.15],\n",
    "    'sulphates': [0.92],\n",
    "    'alcohol': [11.7]\n",
    "}\n",
    "# Créer le DataFrame polars\n",
    "vin_df = pl.DataFrame(X_new)\n",
    "quality = model.predict(vin_df)\n",
    "# print(quality)"
   ]
  }
 ],
 "metadata": {
  "kernelspec": {
   "display_name": ".venv",
   "language": "python",
   "name": "python3"
  },
  "language_info": {
   "codemirror_mode": {
    "name": "ipython",
    "version": 3
   },
   "file_extension": ".py",
   "mimetype": "text/x-python",
   "name": "python",
   "nbconvert_exporter": "python",
   "pygments_lexer": "ipython3",
   "version": "3.12.7"
  }
 },
 "nbformat": 4,
 "nbformat_minor": 2
}

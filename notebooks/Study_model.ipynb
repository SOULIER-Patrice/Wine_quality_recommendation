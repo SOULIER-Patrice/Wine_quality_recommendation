{
 "cells": [
  {
   "cell_type": "markdown",
   "metadata": {},
   "source": [
    "# Study model Wine Quality"
   ]
  },
  {
   "cell_type": "markdown",
   "metadata": {},
   "source": [
    "## Data pre-processing"
   ]
  },
  {
   "cell_type": "code",
   "execution_count": 2,
   "metadata": {},
   "outputs": [],
   "source": [
    "# load data\n",
    "import polars as pl\n",
    "df_csv = pl.read_csv(\"../data/Wines.csv\")\n",
    "# df_csv"
   ]
  },
  {
   "cell_type": "code",
   "execution_count": 3,
   "metadata": {},
   "outputs": [
    {
     "data": {
      "text/html": [
       "<div><style>\n",
       ".dataframe > thead > tr,\n",
       ".dataframe > tbody > tr {\n",
       "  text-align: right;\n",
       "  white-space: pre-wrap;\n",
       "}\n",
       "</style>\n",
       "<small>shape: (9, 14)</small><table border=\"1\" class=\"dataframe\"><thead><tr><th>statistic</th><th>fixed acidity</th><th>volatile acidity</th><th>citric acid</th><th>residual sugar</th><th>chlorides</th><th>free sulfur dioxide</th><th>total sulfur dioxide</th><th>density</th><th>pH</th><th>sulphates</th><th>alcohol</th><th>quality</th><th>Id</th></tr><tr><td>str</td><td>f64</td><td>f64</td><td>f64</td><td>f64</td><td>f64</td><td>f64</td><td>f64</td><td>f64</td><td>f64</td><td>f64</td><td>f64</td><td>f64</td><td>f64</td></tr></thead><tbody><tr><td>&quot;count&quot;</td><td>1143.0</td><td>1143.0</td><td>1143.0</td><td>1143.0</td><td>1143.0</td><td>1143.0</td><td>1143.0</td><td>1143.0</td><td>1143.0</td><td>1143.0</td><td>1143.0</td><td>1143.0</td><td>1143.0</td></tr><tr><td>&quot;null_count&quot;</td><td>0.0</td><td>0.0</td><td>0.0</td><td>0.0</td><td>0.0</td><td>0.0</td><td>0.0</td><td>0.0</td><td>0.0</td><td>0.0</td><td>0.0</td><td>0.0</td><td>0.0</td></tr><tr><td>&quot;mean&quot;</td><td>8.311111</td><td>0.531339</td><td>0.268364</td><td>2.532152</td><td>0.086933</td><td>15.615486</td><td>45.914698</td><td>0.99673</td><td>3.311015</td><td>0.657708</td><td>10.442111</td><td>5.657043</td><td>804.969379</td></tr><tr><td>&quot;std&quot;</td><td>1.747595</td><td>0.179633</td><td>0.196686</td><td>1.355917</td><td>0.047267</td><td>10.250486</td><td>32.78213</td><td>0.001925</td><td>0.156664</td><td>0.170399</td><td>1.082196</td><td>0.805824</td><td>463.997116</td></tr><tr><td>&quot;min&quot;</td><td>4.6</td><td>0.12</td><td>0.0</td><td>0.9</td><td>0.012</td><td>1.0</td><td>6.0</td><td>0.99007</td><td>2.74</td><td>0.33</td><td>8.4</td><td>3.0</td><td>0.0</td></tr><tr><td>&quot;25%&quot;</td><td>7.1</td><td>0.395</td><td>0.09</td><td>1.9</td><td>0.07</td><td>7.0</td><td>21.0</td><td>0.99557</td><td>3.21</td><td>0.55</td><td>9.5</td><td>5.0</td><td>412.0</td></tr><tr><td>&quot;50%&quot;</td><td>7.9</td><td>0.52</td><td>0.25</td><td>2.2</td><td>0.079</td><td>13.0</td><td>37.0</td><td>0.99668</td><td>3.31</td><td>0.62</td><td>10.2</td><td>6.0</td><td>794.0</td></tr><tr><td>&quot;75%&quot;</td><td>9.1</td><td>0.64</td><td>0.42</td><td>2.6</td><td>0.09</td><td>21.0</td><td>61.0</td><td>0.99785</td><td>3.4</td><td>0.73</td><td>11.1</td><td>6.0</td><td>1210.0</td></tr><tr><td>&quot;max&quot;</td><td>15.9</td><td>1.58</td><td>1.0</td><td>15.5</td><td>0.611</td><td>68.0</td><td>289.0</td><td>1.00369</td><td>4.01</td><td>2.0</td><td>14.9</td><td>8.0</td><td>1597.0</td></tr></tbody></table></div>"
      ],
      "text/plain": [
       "shape: (9, 14)\n",
       "┌───────────┬───────────┬───────────┬───────────┬───┬───────────┬───────────┬──────────┬───────────┐\n",
       "│ statistic ┆ fixed     ┆ volatile  ┆ citric    ┆ … ┆ sulphates ┆ alcohol   ┆ quality  ┆ Id        │\n",
       "│ ---       ┆ acidity   ┆ acidity   ┆ acid      ┆   ┆ ---       ┆ ---       ┆ ---      ┆ ---       │\n",
       "│ str       ┆ ---       ┆ ---       ┆ ---       ┆   ┆ f64       ┆ f64       ┆ f64      ┆ f64       │\n",
       "│           ┆ f64       ┆ f64       ┆ f64       ┆   ┆           ┆           ┆          ┆           │\n",
       "╞═══════════╪═══════════╪═══════════╪═══════════╪═══╪═══════════╪═══════════╪══════════╪═══════════╡\n",
       "│ count     ┆ 1143.0    ┆ 1143.0    ┆ 1143.0    ┆ … ┆ 1143.0    ┆ 1143.0    ┆ 1143.0   ┆ 1143.0    │\n",
       "│ null_coun ┆ 0.0       ┆ 0.0       ┆ 0.0       ┆ … ┆ 0.0       ┆ 0.0       ┆ 0.0      ┆ 0.0       │\n",
       "│ t         ┆           ┆           ┆           ┆   ┆           ┆           ┆          ┆           │\n",
       "│ mean      ┆ 8.311111  ┆ 0.531339  ┆ 0.268364  ┆ … ┆ 0.657708  ┆ 10.442111 ┆ 5.657043 ┆ 804.96937 │\n",
       "│           ┆           ┆           ┆           ┆   ┆           ┆           ┆          ┆ 9         │\n",
       "│ std       ┆ 1.747595  ┆ 0.179633  ┆ 0.196686  ┆ … ┆ 0.170399  ┆ 1.082196  ┆ 0.805824 ┆ 463.99711 │\n",
       "│           ┆           ┆           ┆           ┆   ┆           ┆           ┆          ┆ 6         │\n",
       "│ min       ┆ 4.6       ┆ 0.12      ┆ 0.0       ┆ … ┆ 0.33      ┆ 8.4       ┆ 3.0      ┆ 0.0       │\n",
       "│ 25%       ┆ 7.1       ┆ 0.395     ┆ 0.09      ┆ … ┆ 0.55      ┆ 9.5       ┆ 5.0      ┆ 412.0     │\n",
       "│ 50%       ┆ 7.9       ┆ 0.52      ┆ 0.25      ┆ … ┆ 0.62      ┆ 10.2      ┆ 6.0      ┆ 794.0     │\n",
       "│ 75%       ┆ 9.1       ┆ 0.64      ┆ 0.42      ┆ … ┆ 0.73      ┆ 11.1      ┆ 6.0      ┆ 1210.0    │\n",
       "│ max       ┆ 15.9      ┆ 1.58      ┆ 1.0       ┆ … ┆ 2.0       ┆ 14.9      ┆ 8.0      ┆ 1597.0    │\n",
       "└───────────┴───────────┴───────────┴───────────┴───┴───────────┴───────────┴──────────┴───────────┘"
      ]
     },
     "execution_count": 3,
     "metadata": {},
     "output_type": "execute_result"
    }
   ],
   "source": [
    "df_csv.describe()"
   ]
  },
  {
   "cell_type": "code",
   "execution_count": 4,
   "metadata": {},
   "outputs": [],
   "source": [
    "# Définir `X` comme toutes les colonnes sauf \"id\" et \"quality\"\n",
    "X = df_csv.select([col for col in df_csv.columns if col not in [\"Id\", \"quality\"]])\n",
    "# Définir `y` comme la colonne \"quality\"\n",
    "y = df_csv.select(\"quality\")\n",
    "\n",
    "# # Afficher X et y pour vérification\n",
    "# print(\"X (features) :\\n\", X)\n",
    "# print(\"\\nY (target) :\\n\", y)"
   ]
  },
  {
   "cell_type": "code",
   "execution_count": 5,
   "metadata": {},
   "outputs": [],
   "source": [
    "# Afficher les valeurs différentes de quality (on a remarqué qu'il en manque certaines)\n",
    "# for col in y.columns:\n",
    "#     valeurs_uniques = y.select(pl.col(col).unique()).to_series()\n",
    "#     print(f\"Valeurs uniques pour la colonne '{col}':\\n\", valeurs_uniques)\n",
    "#     print(\"\\n\" + \"-\"*50 + \"\\n\")"
   ]
  },
  {
   "cell_type": "markdown",
   "metadata": {},
   "source": [
    "Dans la colonne quality il manque 1, 2, 9 et 10. D'où le choix d'une regression et non une classification."
   ]
  },
  {
   "cell_type": "markdown",
   "metadata": {},
   "source": [
    "## Model SVM (regression)"
   ]
  },
  {
   "cell_type": "code",
   "execution_count": 6,
   "metadata": {},
   "outputs": [
    {
     "name": "stdout",
     "output_type": "stream",
     "text": [
      "(914, 11) (229, 11) (914, 1) (229, 1)\n"
     ]
    }
   ],
   "source": [
    "from sklearn.model_selection import train_test_split\n",
    "from sklearn.metrics import mean_squared_error\n",
    "from sklearn import svm\n",
    "\n",
    "X_train, X_test, y_train, y_test = train_test_split(X, y, test_size=0.2, random_state=42)\n",
    "print(X_train.shape, X_test.shape, y_train.shape, y_test.shape)"
   ]
  },
  {
   "cell_type": "code",
   "execution_count": 7,
   "metadata": {},
   "outputs": [],
   "source": [
    "import numpy as np\n",
    "\n",
    "def get_accuracy(y_test, y_test_hat):\n",
    "    \"\"\" Retourne l'accuracy du modèle \"\"\"\n",
    "    # Arrondir les prédictions à l'entier le plus proche\n",
    "    y_test_hat_rounded = np.round(y_test_hat)\n",
    "    # Comparer les prédictions arrondies avec les valeurs réelles\n",
    "    correct_predictions = np.sum(y_test_hat_rounded == y_test)\n",
    "    # Calculer l'accuracy (le pourcentage de bonnes prédictions)\n",
    "    accuracy = correct_predictions / len(y_test)\n",
    "    return accuracy"
   ]
  },
  {
   "cell_type": "markdown",
   "metadata": {},
   "source": [
    "### Linear"
   ]
  },
  {
   "cell_type": "code",
   "execution_count": null,
   "metadata": {},
   "outputs": [
    {
     "name": "stderr",
     "output_type": "stream",
     "text": [
      "/home/patrice/Documents/Etudes/2024-2025_CY-Tech_Ing3/Cours/Architecture_Microservices/FastAPI/.venv/lib/python3.12/site-packages/sklearn/utils/validation.py:1339: DataConversionWarning: A column-vector y was passed when a 1d array was expected. Please change the shape of y to (n_samples, ), for example using ravel().\n",
      "  y = column_or_1d(y, warn=True)\n"
     ]
    },
    {
     "name": "stdout",
     "output_type": "stream",
     "text": [
      "Linear SVM achieved 0.369 MSE.\n",
      "accuracy = 92.43668122270742\n"
     ]
    }
   ],
   "source": [
    "svm_linear = svm.SVR(kernel='linear')\n",
    "svm_linear.fit(X_train, y_train)\n",
    "y_test_hat_linear = svm_linear.predict(X_test)\n",
    "\n",
    "# # DEBUG\n",
    "# print(\"Real, Predict\")\n",
    "# for i in range(len(y_test)):\n",
    "#     print(f'{y_test[i].item()}, {np.round(y_test_hat_linear[i])}')\n",
    "# # FIN DEBUG\n",
    "\n",
    "mse_linear = mean_squared_error(y_test_hat_linear, y_test)\n",
    "print(f'Linear SVM achieved {round(mse_linear, 3)} MSE.')\n",
    "print(f'accuracy = {get_accuracy(y_test, y_test_hat_linear)}')"
   ]
  },
  {
   "cell_type": "markdown",
   "metadata": {},
   "source": [
    "### Poly (BEST)"
   ]
  },
  {
   "cell_type": "code",
   "execution_count": null,
   "metadata": {},
   "outputs": [
    {
     "name": "stdout",
     "output_type": "stream",
     "text": [
      "Polynomial SVM achieved 0.494 MSE.\n",
      "accuracy = 98.117903930131\n"
     ]
    },
    {
     "name": "stderr",
     "output_type": "stream",
     "text": [
      "/home/patrice/Documents/Etudes/2024-2025_CY-Tech_Ing3/Cours/Architecture_Microservices/FastAPI/.venv/lib/python3.12/site-packages/sklearn/utils/validation.py:1339: DataConversionWarning: A column-vector y was passed when a 1d array was expected. Please change the shape of y to (n_samples, ), for example using ravel().\n",
      "  y = column_or_1d(y, warn=True)\n"
     ]
    }
   ],
   "source": [
    "svm_poly = svm.SVR(kernel='poly')\n",
    "svm_poly.fit(X_train, y_train)\n",
    "y_test_hat_poly = svm_poly.predict(X_test)\n",
    "\n",
    "# # DEBUG\n",
    "# print(\"Real, Predict\")\n",
    "# for i in range(len(y_test)):\n",
    "#     print(f'{y_test[i].item()}, {np.round(y_test_hat_linear[i])}')\n",
    "# # FIN DEBUG\n",
    "\n",
    "mse_poly = mean_squared_error(y_test_hat_poly, y_test)\n",
    "print(f'Polynomial SVM achieved {round(mse_poly, 3)} MSE.')\n",
    "print(f'accuracy = {get_accuracy(y_test, y_test_hat_poly)}')"
   ]
  },
  {
   "cell_type": "code",
   "execution_count": 14,
   "metadata": {},
   "outputs": [
    {
     "data": {
      "text/plain": [
       "['../models/model_wine_recommendation.pkl']"
      ]
     },
     "execution_count": 14,
     "metadata": {},
     "output_type": "execute_result"
    }
   ],
   "source": [
    "# Save model\n",
    "import joblib\n",
    "joblib.dump(svm_poly, \"../models/model_wine_recommendation.pkl\")"
   ]
  },
  {
   "cell_type": "code",
   "execution_count": 15,
   "metadata": {},
   "outputs": [
    {
     "name": "stdout",
     "output_type": "stream",
     "text": [
      "Polynomial SVM achieved 0.494 MSE.\n",
      "accuracy = 98.117903930131\n"
     ]
    }
   ],
   "source": [
    "# Load and use model\n",
    "model = joblib.load(\"../models/model_wine_recommendation.pkl\")\n",
    "\n",
    "# Test\n",
    "y_test_hat_poly = model.predict(X_test)\n",
    "mse_poly = mean_squared_error(y_test_hat_poly, y_test)\n",
    "print(f'Polynomial SVM achieved {round(mse_poly, 3)} MSE.')\n",
    "print(f'accuracy = {get_accuracy(y_test, y_test_hat_poly)}')"
   ]
  },
  {
   "cell_type": "markdown",
   "metadata": {},
   "source": [
    "### Rbf"
   ]
  },
  {
   "cell_type": "code",
   "execution_count": 10,
   "metadata": {},
   "outputs": [
    {
     "name": "stdout",
     "output_type": "stream",
     "text": [
      "RBF SVM achieved 0.423 MSE.\n",
      "accuracy = 97.9475982532751\n"
     ]
    },
    {
     "name": "stderr",
     "output_type": "stream",
     "text": [
      "/home/patrice/Documents/Etudes/2024-2025_CY-Tech_Ing3/Cours/Architecture_Microservices/FastAPI/.venv/lib/python3.12/site-packages/sklearn/utils/validation.py:1339: DataConversionWarning: A column-vector y was passed when a 1d array was expected. Please change the shape of y to (n_samples, ), for example using ravel().\n",
      "  y = column_or_1d(y, warn=True)\n"
     ]
    }
   ],
   "source": [
    "svm_rbf = svm.SVR(kernel='rbf')\n",
    "svm_rbf.fit(X_train, y_train)\n",
    "y_test_hat_rbf = svm_rbf.predict(X_test)\n",
    "mse_rbf = mean_squared_error(y_test_hat_rbf, y_test)\n",
    "print(f'RBF SVM achieved {round(mse_rbf, 3)} MSE.')\n",
    "print(f'accuracy = {get_accuracy(y_test, y_test_hat_rbf)}')"
   ]
  }
 ],
 "metadata": {
  "kernelspec": {
   "display_name": ".venv",
   "language": "python",
   "name": "python3"
  },
  "language_info": {
   "codemirror_mode": {
    "name": "ipython",
    "version": 3
   },
   "file_extension": ".py",
   "mimetype": "text/x-python",
   "name": "python",
   "nbconvert_exporter": "python",
   "pygments_lexer": "ipython3",
   "version": "3.12.7"
  }
 },
 "nbformat": 4,
 "nbformat_minor": 2
}

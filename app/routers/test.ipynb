{
 "cells": [
  {
   "cell_type": "code",
   "execution_count": null,
   "metadata": {},
   "outputs": [
    {
     "name": "stdout",
     "output_type": "stream",
     "text": [
      "shape: (2, 11)\n",
      "┌─────────┬──────────┬─────────────┬────────────────┬───┬─────────┬──────┬───────────┬─────────┐\n",
      "│ fixed   ┆ volatile ┆ citric acid ┆ residual sugar ┆ … ┆ density ┆ pH   ┆ sulphates ┆ alcohol │\n",
      "│ acidity ┆ acidity  ┆ ---         ┆ ---            ┆   ┆ ---     ┆ ---  ┆ ---       ┆ ---     │\n",
      "│ ---     ┆ ---      ┆ f64         ┆ f64            ┆   ┆ f64     ┆ f64  ┆ f64       ┆ f64     │\n",
      "│ f64     ┆ f64      ┆             ┆                ┆   ┆         ┆      ┆           ┆         │\n",
      "╞═════════╪══════════╪═════════════╪════════════════╪═══╪═════════╪══════╪═══════════╪═════════╡\n",
      "│ 10.3    ┆ 0.32     ┆ 0.45        ┆ 6.4            ┆ … ┆ 0.9976  ┆ 3.23 ┆ 0.82      ┆ 12.6    │\n",
      "│ 7.4     ┆ 0.7      ┆ 0.0         ┆ 1.9            ┆ … ┆ 0.9978  ┆ 3.51 ┆ 0.56      ┆ 9.4     │\n",
      "└─────────┴──────────┴─────────────┴────────────────┴───┴─────────┴──────┴───────────┴─────────┘\n",
      "[5.93383706 5.82699458]\n"
     ]
    }
   ],
   "source": [
    "import polars as pl\n",
    "import joblib\n",
    "import numpy as np\n",
    "data = {\n",
    "    'fixed acidity': [10.3, 7.4],\n",
    "    'volatile acidity': [0.32, 0.7],\n",
    "    'citric acid': [0.45, 0.0],\n",
    "    'residual sugar': [6.4, 1.9],\n",
    "    'chlorides': [0.073, 0.076],\n",
    "    'free sulfur dioxide': [5., 11.0],\n",
    "    'total sulfur dioxide': [13., 34.],\n",
    "    'density': [0.9976, 0.9978],\n",
    "    'pH': [3.23, 3.51],\n",
    "    'sulphates': [0.82, 0.56],\n",
    "    'alcohol': [12.6, 9.4]\n",
    "}\n",
    "# Créer le DataFrame polars\n",
    "vin_df = pl.DataFrame(data)\n",
    "# Loading model\n",
    "model = joblib.load(\"../../models/model_wine_recommendation.pkl\")\n",
    "# Predict\n",
    "quality = model.predict(vin_df)\n",
    "print(quality)"
   ]
  },
  {
   "cell_type": "code",
   "execution_count": null,
   "metadata": {},
   "outputs": [],
   "source": [
    "7.4\t0.7\t0.0\t1.9\t0.076\t11.0\t34.0\t0.9978\t3.51\t0.56\t9.4"
   ]
  }
 ],
 "metadata": {
  "kernelspec": {
   "display_name": ".venv",
   "language": "python",
   "name": "python3"
  },
  "language_info": {
   "codemirror_mode": {
    "name": "ipython",
    "version": 3
   },
   "file_extension": ".py",
   "mimetype": "text/x-python",
   "name": "python",
   "nbconvert_exporter": "python",
   "pygments_lexer": "ipython3",
   "version": "3.12.7"
  }
 },
 "nbformat": 4,
 "nbformat_minor": 2
}
